{
 "cells": [
  {
   "cell_type": "code",
   "execution_count": 1,
   "metadata": {},
   "outputs": [
    {
     "name": "stdout",
     "output_type": "stream",
     "text": [
      "Enter any number: 4\n",
      "Factorial of 4 is 24\n"
     ]
    }
   ],
   "source": [
    "# Factorial of a number\n",
    "# 5! = 5 * 4 * 3 * 2 * 1\n",
    "# 1! = 1\n",
    "# 0! = 1\n",
    "\n",
    "\n",
    "def iterFactorial(num):\n",
    "    result = 1\n",
    "    for item in range(1, num + 1):\n",
    "        result = result * item\n",
    "\n",
    "    return result\n",
    "\n",
    "\n",
    "n = int(input(\"Enter any number: \"))\n",
    "out = iterFactorial(n)\n",
    "print(\"Factorial of {} is {}\".format(n, out))"
   ]
  },
  {
   "cell_type": "code",
   "execution_count": 2,
   "metadata": {},
   "outputs": [
    {
     "name": "stdout",
     "output_type": "stream",
     "text": [
      "Enter any number: 3\n",
      "Factorial of 3 is 6\n"
     ]
    }
   ],
   "source": [
    "# Factorial of number\n",
    "# 5! = 5 * 4 * 3 * 2 * 1\n",
    "# 1! = 1\n",
    "# 0! = 1\n",
    "\n",
    "\n",
    "# 5! = 5 * 4!\n",
    "# 4! = 4 * 3!\n",
    "# n! = n * (n - 1)!\n",
    "\n",
    "def recurFactorial(num):\n",
    "    if num == 0 or num == 1:\n",
    "        return 1\n",
    "    else:\n",
    "        return num * recurFactorial(num-1)\n",
    "\n",
    "n = int(input(\"Enter any number: \"))\n",
    "out = recurFactorial(n)\n",
    "print(\"Factorial of {} is {}\".format(n, out))"
   ]
  },
  {
   "cell_type": "code",
   "execution_count": 3,
   "metadata": {},
   "outputs": [
    {
     "name": "stdout",
     "output_type": "stream",
     "text": [
      "49\n",
      "<function <lambda> at 0x000002607252BA60>\n",
      "<class 'function'>\n",
      "Square of number:  25\n",
      "Square of number:  100\n"
     ]
    }
   ],
   "source": [
    "# Lambda Functions\n",
    "# Anonymous functions\n",
    "# Functions which have got NO names,\n",
    "# They are used to write one-line functions\n",
    "\n",
    "def mySquare(num):\n",
    "    return num * num\n",
    "\n",
    "\n",
    "print(mySquare(7))\n",
    "\n",
    "\n",
    "f = lambda num: num * num\n",
    "print(f)\n",
    "print(type(f))\n",
    "result = f(5)\n",
    "print(\"Square of number: \", result)\n",
    "\n",
    "print(\"Square of number: \", (lambda num: num * num)(10))"
   ]
  },
  {
   "cell_type": "code",
   "execution_count": 6,
   "metadata": {},
   "outputs": [
    {
     "name": "stdout",
     "output_type": "stream",
     "text": [
      "<function <lambda> at 0x00000236CC0FE1F0>\n",
      "<class 'function'>\n",
      "Square of number:  25\n"
     ]
    }
   ],
   "source": [
    "# Lambda Functions\n",
    "# Anonymous functions\n",
    "# Functions which have got NO names,\n",
    "# They are used to write one-line functions\n",
    "\n",
    "def mySquare(num):\n",
    "    print(mySquare(7))\n",
    "\n",
    "\n",
    "f = lambda num: num * num\n",
    "print(f)\n",
    "print(type(f))\n",
    "result = f(5)\n",
    "print(\"Square of number: \", result)\n",
    "\n",
    "#print(\"Square of number: \", (lambda num: num * num)(10))\n",
    "#return num * num\n",
    "\n",
    "\n"
   ]
  },
  {
   "cell_type": "code",
   "execution_count": 11,
   "metadata": {},
   "outputs": [
    {
     "name": "stdout",
     "output_type": "stream",
     "text": [
      "Type of funcAsParam: \n",
      "Result:  25\n",
      "Result:  25\n",
      "Result:  125\n",
      "Result:  120\n"
     ]
    }
   ],
   "source": [
    "#Function as a PARAMETER\n",
    "\n",
    "def mySquare(num):\n",
    "    return num * num\n",
    "\n",
    "# mySquare(10)\n",
    "\n",
    "def myCube(n):\n",
    "    return n * n * n\n",
    "\n",
    "def iterFactorial(num):\n",
    "    result = 1\n",
    "    for item in range(1, num + 1):\n",
    "        result = result * item\n",
    "\n",
    "    return result\n",
    "\n",
    "def WrapperFunction(funcAsParam, num):\n",
    "    print(\"Type of funcAsParam: \")# , type(funcAsParam))\n",
    "    return funcAsParam(num)\n",
    "\n",
    "\n",
    "result = WrapperFunction(mySquare, 5)\n",
    "print(\"Result: \", result)\n",
    "\n",
    "# Functions are also first class objects in Python\n",
    "# Closures\n",
    "# Decorators\n",
    "\n",
    "lstFunc = [mySquare, myCube, iterFactorial]\n",
    "\n",
    "for item in lstFunc:\n",
    "    print(\"Result: \", item(5))"
   ]
  },
  {
   "cell_type": "code",
   "execution_count": 12,
   "metadata": {},
   "outputs": [
    {
     "name": "stdout",
     "output_type": "stream",
     "text": [
      "Player Details:\n",
      "Name: Virat, Age: 33, Team: RCB\n",
      "Player Details:\n",
      "Name: MS Dhoni, Age: 37, Team: CSK\n",
      "Player Details:\n",
      "Name: MS Dhoni, Age: 37, Team: CSK\n"
     ]
    }
   ],
   "source": [
    "# Args\n",
    "\n",
    "def printPlayerDetails(name, age, team):\n",
    "    print(\"Player Details:\")\n",
    "    print(\"Name: {}, Age: {}, Team: {}\".format(name, age, team))\n",
    "\n",
    "\n",
    "printPlayerDetails(\"Virat\", 33, \"RCB\")\n",
    "\n",
    "msd = (\"MS Dhoni\", 37, \"CSK\")\n",
    "printPlayerDetails(msd[0], msd[1], msd[2])\n",
    "\n",
    "printPlayerDetails(*msd)\n",
    "\n",
    "# Packing & Unpacking\n",
    "# Args"
   ]
  },
  {
   "cell_type": "code",
   "execution_count": 13,
   "metadata": {},
   "outputs": [
    {
     "ename": "SyntaxError",
     "evalue": "positional argument follows keyword argument (<ipython-input-13-f0416c0445d2>, line 8)",
     "output_type": "error",
     "traceback": [
      "\u001b[1;36m  File \u001b[1;32m\"<ipython-input-13-f0416c0445d2>\"\u001b[1;36m, line \u001b[1;32m8\u001b[0m\n\u001b[1;33m    namedArgumentFunction(b=600, 500, c=103) # Positional argument after named argument, error\u001b[0m\n\u001b[1;37m                                 ^\u001b[0m\n\u001b[1;31mSyntaxError\u001b[0m\u001b[1;31m:\u001b[0m positional argument follows keyword argument\n"
     ]
    }
   ],
   "source": [
    "def namedArgumentFunction(a, b, c):\n",
    "    print(\"The values are a: {}, b: {}, c: {}\".format(a, b, c))\n",
    "\n",
    "\n",
    "namedArgumentFunction(100, 200, 300) # Positional arguments\n",
    "namedArgumentFunction(c=3, a=1, b=2) # Named arguments\n",
    "namedArgumentFunction(101, a=102, c=103) # Mix of Postion + Name # error\n",
    "namedArgumentFunction(b=600, 500, c=103) # Positional argument after named argument, error\n",
    "namedArgumentFunction(101, b=102, c=103) # Mix of Postion + Name\n",
    "namedArgumentFunction(a=600, 500, c=900) # Positional argument after named argument, error\n"
   ]
  },
  {
   "cell_type": "code",
   "execution_count": 3,
   "metadata": {},
   "outputs": [
    {
     "name": "stdout",
     "output_type": "stream",
     "text": [
      "id(d):  2396678208512\n",
      "kwargs:  {'name': 'John', 'stream': 'ECE', 'age': 17, 'marks': 700}\n",
      "type(kwargs) :  <class 'dict'>\n",
      "id(kwargs):  2396678209280\n"
     ]
    }
   ],
   "source": [
    "# kwargs ==> Dictionary\n",
    "\n",
    "def printStudentDetails(**kwargs):\n",
    "    print(\"kwargs: \", kwargs)\n",
    "    print(\"type(kwargs) : \", type(kwargs))\n",
    "    print(\"id(kwargs): \", id(kwargs))\n",
    "    # print(\"Student Details: Name: {}, Age: {}, Marks: {}, Stream: {}\".format(\n",
    "    #     kwargs['name'], kwargs['age'], kwargs['marks'], kwargs['stream']\n",
    "    # ))\n",
    "\n",
    "\n",
    "# printStudentDetails(name=\"Mary\", age=15, marks=500, stream=\"CSE\")\n",
    "\n",
    "d = {\"name\": \"John\", \"stream\": \"ECE\", \"age\": 17, 'marks': 700}\n",
    "print(\"id(d): \", id(d))\n",
    "printStudentDetails(**d)"
   ]
  },
  {
   "cell_type": "code",
   "execution_count": 4,
   "metadata": {},
   "outputs": [
    {
     "name": "stdout",
     "output_type": "stream",
     "text": [
      "Student Details\n",
      "Name: Mary, Age: 15, Marks: 500, Stream: CSE\n",
      "Student Details\n",
      "Name: John, Age: 17, Marks: 700, Stream: ECE\n"
     ]
    }
   ],
   "source": [
    "def printStudentDetails(name, age, marks, stream):\n",
    "    print(\"Student Details\")\n",
    "    print(\"Name: {}, Age: {}, Marks: {}, Stream: {}\".format(\n",
    "        name, age, marks, stream\n",
    "    ))\n",
    "\n",
    "\n",
    "printStudentDetails(\"Mary\", 15, 500, \"CSE\")\n",
    "d = {\"name\": \"John\", \"stream\": \"ECE\", \"age\": 17, 'marks': 700}\n",
    "printStudentDetails(**d)\n",
    "# printStudentDetails(*d) # NOT a correct way"
   ]
  },
  {
   "cell_type": "code",
   "execution_count": 5,
   "metadata": {},
   "outputs": [
    {
     "name": "stdout",
     "output_type": "stream",
     "text": [
      "5\n",
      "12345\n"
     ]
    }
   ],
   "source": [
    "print(*range(1, int(input())+1), sep='')\n"
   ]
  },
  {
   "cell_type": "code",
   "execution_count": 8,
   "metadata": {},
   "outputs": [
    {
     "name": "stdout",
     "output_type": "stream",
     "text": [
      "Returned Output 1st Iteration:  ['$']\n",
      "Returned Output 2nd Iteration:  ['$', '$']\n",
      "Returned Output 2nd Iteration:  ['$', '$', '$']\n",
      "Returned Output 2nd Iteration:  [1, 2, 3, '$']\n",
      "Returned Output 2nd Iteration:  [1, 2, 3, '$']\n"
     ]
    }
   ],
   "source": [
    "def EmptyListAsParam(my_list=[]):\n",
    "    my_list.append(\"$\")\n",
    "    return my_list\n",
    "\n",
    "\n",
    "r = EmptyListAsParam()\n",
    "print(\"Returned Output 1st Iteration: \", r)\n",
    "\n",
    "r1 = EmptyListAsParam()\n",
    "print(\"Returned Output 2nd Iteration: \", r1)\n",
    "\n",
    "r2 = EmptyListAsParam()\n",
    "print(\"Returned Output 2nd Iteration: \", r2)\n",
    "\n",
    "r3 = EmptyListAsParam([1, 2, 3])\n",
    "print(\"Returned Output 2nd Iteration: \", r3)\n",
    "\n",
    "r4 = EmptyListAsParam([1, 2, 3])\n",
    "print(\"Returned Output 2nd Iteration: \", r4)"
   ]
  },
  {
   "cell_type": "code",
   "execution_count": 9,
   "metadata": {},
   "outputs": [
    {
     "name": "stdout",
     "output_type": "stream",
     "text": [
      "Returned Output 1st Iteration:  ['$']\n",
      "Returned Output 2nd Iteration:  ['$', '$']\n",
      "Returned Output 2nd Iteration:  ['$', '$', '$']\n",
      "Returned Output 2nd Iteration:  [1, 2, 3, '$']\n",
      "Returned Output 2nd Iteration:  [1, 2, 3, '$']\n"
     ]
    }
   ],
   "source": [
    "def EmptyListAsParam(my_list=[]):\n",
    "    my_list.append(\"$\")\n",
    "    return my_list\n",
    "\n",
    "\n",
    "r = EmptyListAsParam()\n",
    "print(\"Returned Output 1st Iteration: \", r)\n",
    "\n",
    "r1 = EmptyListAsParam()\n",
    "print(\"Returned Output 2nd Iteration: \", r1)\n",
    "\n",
    "r2 = EmptyListAsParam()\n",
    "print(\"Returned Output 2nd Iteration: \", r2)\n",
    "\n",
    "r3 = EmptyListAsParam([1, 2, 3])\n",
    "print(\"Returned Output 2nd Iteration: \", r3)\n",
    "\n",
    "r4 = EmptyListAsParam([1, 2, 3])\n",
    "print(\"Returned Output 2nd Iteration: \", r4) \n"
   ]
  },
  {
   "cell_type": "code",
   "execution_count": 10,
   "metadata": {},
   "outputs": [
    {
     "name": "stdout",
     "output_type": "stream",
     "text": [
      "Returned Output 1st Iteration:  ['$']\n",
      "Returned Output 2nd Iteration:  ['$']\n",
      "Returned Output 2nd Iteration:  ['$']\n",
      "Returned Output 2nd Iteration:  [1, 2, 3, '$']\n",
      "Returned Output 2nd Iteration:  [1, 2, 3, '$']\n"
     ]
    }
   ],
   "source": [
    "def EmptyListAsParam(my_list=None):\n",
    "    if my_list is None:\n",
    "        my_list = []\n",
    "    my_list.append(\"$\")\n",
    "    return my_list\n",
    "\n",
    "\n",
    "r = EmptyListAsParam()\n",
    "print(\"Returned Output 1st Iteration: \", r)\n",
    "\n",
    "r1 = EmptyListAsParam()\n",
    "print(\"Returned Output 2nd Iteration: \", r1)\n",
    "\n",
    "r2 = EmptyListAsParam()\n",
    "print(\"Returned Output 2nd Iteration: \", r2)\n",
    "\n",
    "r3 = EmptyListAsParam([1, 2, 3])\n",
    "print(\"Returned Output 2nd Iteration: \", r3)\n",
    "\n",
    "r4 = EmptyListAsParam([1, 2, 3])\n",
    "print(\"Returned Output 2nd Iteration: \", r4)"
   ]
  },
  {
   "cell_type": "code",
   "execution_count": 15,
   "metadata": {},
   "outputs": [
    {
     "name": "stdout",
     "output_type": "stream",
     "text": [
      "range(1, 6)\n"
     ]
    }
   ],
   "source": [
    "print(range(1,6))"
   ]
  },
  {
   "cell_type": "code",
   "execution_count": 12,
   "metadata": {},
   "outputs": [
    {
     "ename": "SyntaxError",
     "evalue": "can't use starred expression here (<ipython-input-12-c9bcec53ccdc>, line 1)",
     "output_type": "error",
     "traceback": [
      "\u001b[1;36m  File \u001b[1;32m\"<ipython-input-12-c9bcec53ccdc>\"\u001b[1;36m, line \u001b[1;32m1\u001b[0m\n\u001b[1;33m    *range(1,6)\u001b[0m\n\u001b[1;37m    ^\u001b[0m\n\u001b[1;31mSyntaxError\u001b[0m\u001b[1;31m:\u001b[0m can't use starred expression here\n"
     ]
    }
   ],
   "source": [
    "*range(1,6)"
   ]
  },
  {
   "cell_type": "code",
   "execution_count": 16,
   "metadata": {},
   "outputs": [
    {
     "name": "stdout",
     "output_type": "stream",
     "text": [
      "12345\n"
     ]
    }
   ],
   "source": [
    "print(*range(1,6),sep='')"
   ]
  },
  {
   "cell_type": "code",
   "execution_count": 17,
   "metadata": {},
   "outputs": [
    {
     "name": "stdout",
     "output_type": "stream",
     "text": [
      "Args:  (1, 2, 3)\n",
      "Type of Args:  <class 'tuple'>\n",
      "Args:  (4, 5, 6)\n",
      "Type of Args:  <class 'tuple'>\n",
      "Args:  (4, 5, 6)\n",
      "Type of Args:  <class 'tuple'>\n",
      "Args:  (100, 101, 102, 103, 104)\n",
      "Type of Args:  <class 'tuple'>\n",
      "1\n",
      "2\n",
      "3\n",
      "4\n",
      "5\n"
     ]
    }
   ],
   "source": [
    "def multipleUnpackings(*args):\n",
    "    print(\"Args: \", args)\n",
    "    print(\"Type of Args: \", type(args))\n",
    "\n",
    "\n",
    "a = [1, 2, 3]\n",
    "multipleUnpackings(*a)\n",
    "\n",
    "b = (4, 5, 6)\n",
    "multipleUnpackings(*b)\n",
    "\n",
    "c = {4, 5, 6}\n",
    "multipleUnpackings(*c)\n",
    "\n",
    "r = range(100, 105)\n",
    "multipleUnpackings(*r)\n",
    "\n",
    "# print(*range(1, 6), sep='')\n",
    "print(*range(1, 6), sep=\"\\n\")\n",
    "\n",
    "# PYTHON 3.5 ==> This feature is available ONLY from Python 3.5"
   ]
  },
  {
   "cell_type": "code",
   "execution_count": 18,
   "metadata": {},
   "outputs": [
    {
     "name": "stdout",
     "output_type": "stream",
     "text": [
      "a: 1, b: 2, z: 3, x: 4, y: 5\n",
      "a: 1, b: 2, z: 3, x: 4, y: 5\n"
     ]
    }
   ],
   "source": [
    "# Positional - Only Arguments (Available ONLY from Python 3.8)\n",
    "\n",
    "def positionalArguments(a, b, /, z, x, y):\n",
    "    print(\"a: {}, b: {}, z: {}, x: {}, y: {}\".format(a, b, z, x, y))\n",
    "\n",
    "\n",
    "positionalArguments(1, 2, 3, 4, 5)\n",
    "positionalArguments(1, 2, z=3, y=5, x=4)\n",
    "# positionalArguments(a=1, b=2, z=3)\n"
   ]
  },
  {
   "cell_type": "code",
   "execution_count": 19,
   "metadata": {},
   "outputs": [
    {
     "name": "stdout",
     "output_type": "stream",
     "text": [
      "a: 1, b: 2, z: 3, w: 4, x: 5, y: 6\n",
      "a: 1, b: 2, z: 3, w: 4, x: 5, y: 6\n"
     ]
    }
   ],
   "source": [
    "# Positional + keyword - Only Arguments (Available ONLY from Python 3.8)\n",
    "\n",
    "def positionalkeywordArguments(a, b, /, z, w, *, x, y):\n",
    "    print(\"a: {}, b: {}, z: {}, w: {}, x: {}, y: {}\".format(a, b, z, w, x, y))\n",
    "\n",
    "\n",
    "# positionalkeywordArguments(1, 2, 3, 4, 5, 6) # error as x, y needs to passed via keyword arguments\n",
    "positionalkeywordArguments(1, 2, 3, 4, x=5, y=6)\n",
    "positionalkeywordArguments(1, 2, z=3, w=4, x=5, y=6)"
   ]
  },
  {
   "cell_type": "code",
   "execution_count": null,
   "metadata": {},
   "outputs": [],
   "source": []
  }
 ],
 "metadata": {
  "kernelspec": {
   "display_name": "Python 3",
   "language": "python",
   "name": "python3"
  },
  "language_info": {
   "codemirror_mode": {
    "name": "ipython",
    "version": 3
   },
   "file_extension": ".py",
   "mimetype": "text/x-python",
   "name": "python",
   "nbconvert_exporter": "python",
   "pygments_lexer": "ipython3",
   "version": "3.8.5"
  }
 },
 "nbformat": 4,
 "nbformat_minor": 4
}
